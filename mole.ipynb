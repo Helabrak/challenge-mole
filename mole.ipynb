{
 "cells": [
  {
   "cell_type": "code",
   "execution_count": 3,
   "id": "a6d26138",
   "metadata": {},
   "outputs": [
    {
     "ename": "SyntaxError",
     "evalue": "invalid syntax (Temp/ipykernel_13488/21189640.py, line 7)",
     "output_type": "error",
     "traceback": [
      "\u001b[1;36m  File \u001b[1;32m\"C:\\Users\\miche\\AppData\\Local\\Temp/ipykernel_13488/21189640.py\"\u001b[1;36m, line \u001b[1;32m7\u001b[0m\n\u001b[1;33m    import matpllot a\u001b[0m\n\u001b[1;37m                    ^\u001b[0m\n\u001b[1;31mSyntaxError\u001b[0m\u001b[1;31m:\u001b[0m invalid syntax\n"
     ]
    }
   ],
   "source": [
    "import os\n",
    "import cv2\r\n",
    "import torch\r\n",
    "import tensorflow as tf\r\n",
    "import numpy as np\r\n",
    "import pandas as pd\r\n",
    "import mlot a\n",
    "import matplotlib.image as ms plt"
   ]
  },
  {
   "cell_type": "code",
   "execution_count": null,
   "id": "67c3733f",
   "metadata": {},
   "outputs": [],
   "source": [
    "df_meta = pd.read_csv(\"Data/HAM10000_metadata.csv\")\r\n",
    "print(df_meta.shape)\r\n",
    "df_meta.head()"
   ]
  },
  {
   "cell_type": "code",
   "execution_count": null,
   "id": "56f543a7",
   "metadata": {},
   "outputs": [],
   "source": [
    "df_rgb28 = pd.read_csv(\"Data/hmnist_28_28_RGB.csv\")\r\n",
    "print(df_rgb28.shape)\r\n",
    "df_rgb28.head()"
   ]
  },
  {
   "cell_type": "code",
   "execution_count": null,
   "id": "b918942a",
   "metadata": {},
   "outputs": [],
   "source": [
    "df_rgb8 = pd.read_csv(\"Data/hmnist_8_8_RGB.csv\")\r\n",
    "print(df_rgb8.shape)\r\n",
    "df_rgb8.head()"
   ]
  },
  {
   "cell_type": "code",
   "execution_count": null,
   "id": "84a75f93-76cb-48ff-b433-20aaa32e935b",
   "metadata": {},
   "outputs": [],
   "source": [
    "df_label28 = pd.read_csv(\"Data/hmnist_28_28_L.csv\")\n",
    "print(df_label28.shape)\n",
    "df_label28.head()"
   ]
  },
  {
   "cell_type": "code",
   "execution_count": null,
   "id": "ff871b59-237f-48ac-9cae-713b92cd6dbf",
   "metadata": {},
   "outputs": [],
   "source": [
    "df_label8 = pd.read_csv(\"Data/hmnist_8_8_L.csv\")\n",
    "print(df_label8.shape)\n",
    "df_label8.head()"
   ]
  },
  {
   "cell_type": "code",
   "execution_count": null,
   "id": "0f6f2faf-f8c9-4ede-82cf-69ac05d9bf14",
   "metadata": {},
   "outputs": [],
   "source": [
    "import os"
   ]
  },
  {
   "cell_type": "code",
   "execution_count": null,
   "id": "78e13af6-3a93-4d89-aa28-c458fc1a6a9b",
   "metadata": {},
   "outputs": [],
   "source": [
    "os.listdir('Data/HAM10000_images_part_1')"
   ]
  },
  {
   "cell_type": "code",
   "execution_count": null,
   "id": "78b68dc7-c883-426f-b8c8-91a90caf4777",
   "metadata": {},
   "outputs": [],
   "source": []
  }
 ],
 "metadata": {
  "interpreter": {
   "hash": "37c8b85a9668058c442760a940dfd3b9ca1e609e2d4491d6eb9ed61ef53debcc"
  },
  "kernelspec": {
   "display_name": "cvision",
   "language": "python",
   "name": "cvision"
  },
  "language_info": {
   "codemirror_mode": {
    "name": "ipython",
    "version": 3
   },
   "file_extension": ".py",
   "mimetype": "text/x-python",
   "name": "python",
   "nbconvert_exporter": "python",
   "pygments_lexer": "ipython3",
   "version": "3.9.5"
  }
 },
 "nbformat": 4,
 "nbformat_minor": 5
}
