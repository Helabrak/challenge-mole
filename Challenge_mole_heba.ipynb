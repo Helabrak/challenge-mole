{
 "cells": [
  {
   "cell_type": "code",
   "execution_count": 2,
   "id": "5d00dbf9-2d23-462d-bbb3-51544780e0fc",
   "metadata": {},
   "outputs": [
    {
     "data": {
      "text/plain": [
       "'2.3.0'"
      ]
     },
     "execution_count": 2,
     "metadata": {},
     "output_type": "execute_result"
    }
   ],
   "source": [
    "import tensorflow as tf\n",
    "tf.version.VERSION"
   ]
  },
  {
   "cell_type": "code",
   "execution_count": null,
   "id": "2a09c450-a8ae-4b50-bf5c-1ed9e62d7d73",
   "metadata": {},
   "outputs": [],
   "source": []
  },
  {
   "cell_type": "code",
   "execution_count": 19,
   "id": "d4578ade-af85-4d53-89d5-eb27e5ce7de7",
   "metadata": {},
   "outputs": [],
   "source": [
    "import numpy as np\n",
    "import pandas as pd\n",
    "import tensorflow as tf\n",
    "from tensorflow import keras\n",
    "from tensorflow.keras.models import Sequential\n",
    "from tensorflow.keras.layers import Activation, Dense, Flatten, BatchNormalization, Conv2D, MaxPool2D\n",
    "from tensorflow.keras.optimizers import Adam\n",
    "from tensorflow.keras.metrics import categorical_crossentropy\n",
    "from tensorflow.keras.preprocessing.image import ImageDataGenerator\n",
    "from sklearn.metrics import confusion_matrix\n",
    "import itertools\n",
    "import os\n",
    "import shutil\n",
    "import random\n",
    "import glob\n",
    "import matplotlib.pyplot as plt\n",
    "import warnings\n",
    "warnings.simplefilter(action='ignore', category=FutureWarning)\n",
    "%matplotlib inline"
   ]
  },
  {
   "cell_type": "code",
   "execution_count": 22,
   "id": "7c90f597-b8ab-4b7f-9738-f0825064e2d0",
   "metadata": {},
   "outputs": [],
   "source": [
    "df=pd.read_csv('C:\\\\Users\\\\Heba\\\\Documents\\\\Challenge Mole\\\\data\\\\mole_metadata.csv')"
   ]
  },
  {
   "cell_type": "code",
   "execution_count": 23,
   "id": "ef989335-9546-4bb0-8aec-f56e809fb88d",
   "metadata": {},
   "outputs": [
    {
     "data": {
      "text/plain": [
       "['lesion_id', 'image_id', 'dx', 'dx_type', 'age', 'sex', 'localization']"
      ]
     },
     "execution_count": 23,
     "metadata": {},
     "output_type": "execute_result"
    }
   ],
   "source": [
    "df.columns.tolist()"
   ]
  },
  {
   "cell_type": "code",
   "execution_count": 24,
   "id": "dc5996d4-5ef8-4710-b019-0a98fc350bb4",
   "metadata": {},
   "outputs": [
    {
     "data": {
      "text/plain": [
       "array(['bkl', 'nv', 'df', 'mel', 'vasc', 'bcc', 'akiec'], dtype=object)"
      ]
     },
     "execution_count": 24,
     "metadata": {},
     "output_type": "execute_result"
    }
   ],
   "source": [
    "df.dx.unique()"
   ]
  },
  {
   "cell_type": "code",
   "execution_count": 26,
   "id": "c8395742-4aec-4237-bb35-5f04472442c5",
   "metadata": {},
   "outputs": [
    {
     "data": {
      "text/plain": [
       "nv       6705\n",
       "mel      1113\n",
       "bkl      1099\n",
       "bcc       514\n",
       "akiec     327\n",
       "vasc      142\n",
       "df        115\n",
       "Name: dx, dtype: int64"
      ]
     },
     "execution_count": 26,
     "metadata": {},
     "output_type": "execute_result"
    }
   ],
   "source": [
    "df.dx.value_counts()"
   ]
  },
  {
   "cell_type": "code",
   "execution_count": null,
   "id": "d6dcf3db-6688-44b8-a421-775b8c48190b",
   "metadata": {},
   "outputs": [],
   "source": [
    "cancer = ['bcc', 'mel']\n",
    "not_cancer = ['akiec', 'df', 'bkl', 'nv', 'vasc']"
   ]
  },
  {
   "cell_type": "code",
   "execution_count": 21,
   "id": "1b1d963e-0f7d-4d5c-8074-c284d8789660",
   "metadata": {},
   "outputs": [
    {
     "data": {
      "text/plain": [
       "'C:\\\\Users\\\\Heba\\\\Documents\\\\Challenge Mole'"
      ]
     },
     "execution_count": 21,
     "metadata": {},
     "output_type": "execute_result"
    }
   ],
   "source": [
    "pwd"
   ]
  },
  {
   "cell_type": "code",
   "execution_count": 29,
   "id": "e51180a7-17c6-482c-9539-f2a88243f5bc",
   "metadata": {},
   "outputs": [],
   "source": [
    "# Organize data into train, valid, test dirs\n",
    "os.chdir('data\\\\mole_part_1')\n",
    "if os.path.isdir('train/mole_part_1') is False:\n",
    "    os.makedirs('train/mole_part_1')\n",
    "    os.makedirs('valid/mole_part_1')\n",
    "    os.makedirs('test/mole_part_1')\n",
    "\n",
    "\n",
    "    for i in random.sample(glob.glob('mole_part_1*'),500):\n",
    "        shutil.move(i, 'train/mole_part_1')      \n",
    "    for i in random.sample(glob.glob('mole_part_1*'),100):\n",
    "        shutil.move(i, 'valid/mole_part_1')        \n",
    "    for i in random.sample(glob.glob('mole_part_1*'),50):\n",
    "        shutil.move(i, 'test/mole_part_1')      \n",
    "  \n",
    "\n",
    "os.chdir('../../')"
   ]
  },
  {
   "cell_type": "code",
   "execution_count": 7,
   "id": "102979b0-a9b5-4b35-930a-8bfffc783fa4",
   "metadata": {},
   "outputs": [
    {
     "data": {
      "text/plain": [
       "'C:\\\\Users\\\\Heba\\\\Documents\\\\Challenge Mole\\\\data\\\\mole_part_1'"
      ]
     },
     "execution_count": 7,
     "metadata": {},
     "output_type": "execute_result"
    }
   ],
   "source": [
    "pwd"
   ]
  },
  {
   "cell_type": "code",
   "execution_count": 30,
   "id": "d142f3cf-8ff0-438e-8204-678c41b1bdf7",
   "metadata": {},
   "outputs": [],
   "source": [
    "train_path = 'data\\\\mole_part_1/train'\n",
    "valid_path = 'data\\\\mole_part_1/valid'\n",
    "test_path = 'data\\\\mole_part_1/test'"
   ]
  },
  {
   "cell_type": "code",
   "execution_count": 31,
   "id": "191fc9fa-734e-402a-84f9-6e6b7599f11e",
   "metadata": {},
   "outputs": [
    {
     "name": "stdout",
     "output_type": "stream",
     "text": [
      "Found 0 images belonging to 1 classes.\n",
      "Found 0 images belonging to 1 classes.\n",
      "Found 0 images belonging to 1 classes.\n"
     ]
    }
   ],
   "source": [
    "train_batches = ImageDataGenerator(preprocessing_function=tf.keras.applications.vgg16.preprocess_input) \\\n",
    "    .flow_from_directory(directory=train_path, target_size=(224,224), classes=None, class_mode = None,  batch_size=10)\n",
    "valid_batches = ImageDataGenerator(preprocessing_function=tf.keras.applications.vgg16.preprocess_input) \\\n",
    "    .flow_from_directory(directory=valid_path, target_size=(224,224), classes=None,class_mode = None, batch_size=10)\n",
    "test_batches = ImageDataGenerator(preprocessing_function=tf.keras.applications.vgg16.preprocess_input) \\\n",
    "    .flow_from_directory(directory=test_path, target_size=(224,224), classes=None,class_mode = None, batch_size=10, shuffle=False)"
   ]
  },
  {
   "cell_type": "code",
   "execution_count": 1,
   "id": "b8682ef6-e3f4-4d97-98c8-edee5ad4c3da",
   "metadata": {},
   "outputs": [
    {
     "ename": "IndentationError",
     "evalue": "unexpected indent (Temp/ipykernel_10452/159575543.py, line 8)",
     "output_type": "error",
     "traceback": [
      "\u001B[1;36m  File \u001B[1;32m\"C:\\Users\\Amaury\\AppData\\Local\\Temp/ipykernel_10452/159575543.py\"\u001B[1;36m, line \u001B[1;32m8\u001B[0m\n\u001B[1;33m    os.mkdir(base_dir)\u001B[0m\n\u001B[1;37m    ^\u001B[0m\n\u001B[1;31mIndentationError\u001B[0m\u001B[1;31m:\u001B[0m unexpected indent\n"
     ]
    }
   ],
   "source": [
    "import os\n",
    "import errno\n",
    "\n",
    "base_dir = 'base_dir'\n",
    "image_class = ['nv','mel','bkl','bcc','akiec','vasc','df']\n",
    "    os.mkdir(base_dir)\n",
    "\n",
    "#3 folders are made: base_dir, train_dir and val_dirtry:\n",
    "try:\n",
    "  os.mkdir(train_dir)\n",
    "except OSError as exc:\n",
    "    if exc.errno != errno.EEXIST:\n",
    "        raise\n",
    "    passtrain_dir = os.path.join(base_dir, 'train_dir')\n",
    "\n",
    "except OSError as exc:\n",
    "    if exc.errno != errno.EEXIST:\n",
    "        raise\n",
    "    pass\n",
    "val_dir = os.path.join(base_dir, 'val_dir')\n",
    "try:\n",
    "  os.mkdir(val_dir)\n",
    "\n",
    "except OSError as exc:\n",
    "    if exc.errno != errno.EEXIST:\n",
    "        raise\n",
    "    pass\n",
    "#make sub directories for the labels\n",
    "for x in image_class:\n",
    "      os.mkdir(train_dir+'/'+x)\n",
    "for x in image_class:\n",
    "      os.mkdir(val_dir+'/'+x)\n",
    "}\n",
    "\n",
    "df['diagnosis'] = df['dx'].map(dx_dict.get)"
   ]
  }
 ],
 "metadata": {
  "kernelspec": {
   "name": "pycharm-a4938a64",
   "language": "python",
   "display_name": "PyCharm (Mole_2)"
  },
  "language_info": {
   "codemirror_mode": {
    "name": "ipython",
    "version": 3
   },
   "file_extension": ".py",
   "mimetype": "text/x-python",
   "name": "python",
   "nbconvert_exporter": "python",
   "pygments_lexer": "ipython3",
   "version": "3.8.11"
  }
 },
 "nbformat": 4,
 "nbformat_minor": 5
}